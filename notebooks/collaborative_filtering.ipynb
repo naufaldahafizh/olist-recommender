{
 "cells": [
  {
   "cell_type": "code",
   "execution_count": 1,
   "id": "bd303407",
   "metadata": {},
   "outputs": [],
   "source": [
    "import pandas as pd\n",
    "import matplotlib.pyplot as plt\n",
    "import seaborn as sns\n",
    "from surprise import Dataset, Reader, SVD\n",
    "from surprise.model_selection import train_test_split\n",
    "from surprise import accuracy"
   ]
  },
  {
   "cell_type": "code",
   "execution_count": 2,
   "id": "8959c27e",
   "metadata": {},
   "outputs": [
    {
     "data": {
      "text/html": [
       "<div>\n",
       "<style scoped>\n",
       "    .dataframe tbody tr th:only-of-type {\n",
       "        vertical-align: middle;\n",
       "    }\n",
       "\n",
       "    .dataframe tbody tr th {\n",
       "        vertical-align: top;\n",
       "    }\n",
       "\n",
       "    .dataframe thead th {\n",
       "        text-align: right;\n",
       "    }\n",
       "</style>\n",
       "<table border=\"1\" class=\"dataframe\">\n",
       "  <thead>\n",
       "    <tr style=\"text-align: right;\">\n",
       "      <th></th>\n",
       "      <th>customer_id</th>\n",
       "      <th>product_id</th>\n",
       "      <th>review_score</th>\n",
       "    </tr>\n",
       "  </thead>\n",
       "  <tbody>\n",
       "    <tr>\n",
       "      <th>0</th>\n",
       "      <td>9ef432eb6251297304e76186b10a928d</td>\n",
       "      <td>87285b34884572647811a353c7ac498a</td>\n",
       "      <td>4</td>\n",
       "    </tr>\n",
       "    <tr>\n",
       "      <th>1</th>\n",
       "      <td>b0830fb4747a6c6d20dea0b8c802d7ef</td>\n",
       "      <td>595fac2a385ac33a80bd5114aec74eb8</td>\n",
       "      <td>4</td>\n",
       "    </tr>\n",
       "    <tr>\n",
       "      <th>2</th>\n",
       "      <td>41ce2a54c0b03bf3443c3d931a367089</td>\n",
       "      <td>aa4383b373c6aca5d8797843e5594415</td>\n",
       "      <td>5</td>\n",
       "    </tr>\n",
       "    <tr>\n",
       "      <th>3</th>\n",
       "      <td>f88197465ea7920adcdbec7375364d82</td>\n",
       "      <td>d0b61bfb1de832b15ba9d266ca96e5b0</td>\n",
       "      <td>5</td>\n",
       "    </tr>\n",
       "    <tr>\n",
       "      <th>4</th>\n",
       "      <td>8ab97904e6daea8866dbdbc4fb7aad2c</td>\n",
       "      <td>65266b2da20d04dbe00c5c2d3bb7859e</td>\n",
       "      <td>5</td>\n",
       "    </tr>\n",
       "  </tbody>\n",
       "</table>\n",
       "</div>"
      ],
      "text/plain": [
       "                        customer_id                        product_id  \\\n",
       "0  9ef432eb6251297304e76186b10a928d  87285b34884572647811a353c7ac498a   \n",
       "1  b0830fb4747a6c6d20dea0b8c802d7ef  595fac2a385ac33a80bd5114aec74eb8   \n",
       "2  41ce2a54c0b03bf3443c3d931a367089  aa4383b373c6aca5d8797843e5594415   \n",
       "3  f88197465ea7920adcdbec7375364d82  d0b61bfb1de832b15ba9d266ca96e5b0   \n",
       "4  8ab97904e6daea8866dbdbc4fb7aad2c  65266b2da20d04dbe00c5c2d3bb7859e   \n",
       "\n",
       "   review_score  \n",
       "0             4  \n",
       "1             4  \n",
       "2             5  \n",
       "3             5  \n",
       "4             5  "
      ]
     },
     "execution_count": 2,
     "metadata": {},
     "output_type": "execute_result"
    }
   ],
   "source": [
    "products = pd.read_csv('../data/olist_products_dataset.csv')\n",
    "orders = pd.read_csv(\"../data/olist_orders_dataset.csv\")\n",
    "items = pd.read_csv(\"../data/olist_order_items_dataset.csv\")\n",
    "reviews = pd.read_csv(\"../data/olist_order_reviews_dataset.csv\")\n",
    "\n",
    "# Gabung orders + items + reviews\n",
    "merged = orders.merge(items, on='order_id')\n",
    "merged = merged.merge(reviews[['order_id', 'review_score']], on='order_id')\n",
    "\n",
    "# Ambil kolom yang relevan\n",
    "df = merged[['customer_id', 'product_id', 'review_score']].dropna()\n",
    "df = df.drop_duplicates()\n",
    "\n",
    "df.head()"
   ]
  },
  {
   "cell_type": "code",
   "execution_count": 3,
   "id": "f2591ab3",
   "metadata": {},
   "outputs": [
    {
     "name": "stdout",
     "output_type": "stream",
     "text": [
      "RMSE: 1.3364\n"
     ]
    }
   ],
   "source": [
    "# Reader surprise butuh rating min dan max\n",
    "reader = Reader(rating_scale=(1, 5))\n",
    "data = Dataset.load_from_df(df[['customer_id', 'product_id', 'review_score']], reader)\n",
    "\n",
    "trainset, testset = train_test_split(data, test_size=0.2)\n",
    "\n",
    "model = SVD()\n",
    "model.fit(trainset)\n",
    "\n",
    "# Evaluasi\n",
    "predictions = model.test(testset)\n",
    "rmse = accuracy.rmse(predictions)"
   ]
  },
  {
   "cell_type": "code",
   "execution_count": 4,
   "id": "b0964736",
   "metadata": {},
   "outputs": [
    {
     "name": "stdout",
     "output_type": "stream",
     "text": [
      "Top 5 rekomendasi produk untuk user 52efe753f546446eb1a37bb701656442:\n",
      " [('4fcb3d9a5f4871e8362dfedbdb02b064', 4.346011565636064)]\n"
     ]
    }
   ],
   "source": [
    "def get_top_n(predictions, n=5):\n",
    "    from collections import defaultdict\n",
    "    top_n = defaultdict(list)\n",
    "    for uid, iid, true_r, est, _ in predictions:\n",
    "        top_n[uid].append((iid, est))\n",
    "\n",
    "    for uid, user_ratings in top_n.items():\n",
    "        user_ratings.sort(key=lambda x: x[1], reverse=True)\n",
    "        top_n[uid] = user_ratings[:n]\n",
    "    return top_n\n",
    "\n",
    "top_n = get_top_n(predictions, n=5)\n",
    "\n",
    "# Lihat hasil rekomendasi user\n",
    "sample_user = list(top_n.keys())[0]\n",
    "print(f\"Top 5 rekomendasi produk untuk user {sample_user}:\\n\", top_n[sample_user])"
   ]
  },
  {
   "cell_type": "code",
   "execution_count": 5,
   "id": "bb23057d",
   "metadata": {},
   "outputs": [
    {
     "data": {
      "image/png": "[encoded data removed]",
      "text/plain": [
       "<Figure size 640x480 with 1 Axes>"
      ]
     },
     "metadata": {},
     "output_type": "display_data"
    }
   ],
   "source": [
    "estimates = [pred.est for pred in predictions]\n",
    "sns.histplot(estimates, bins=20)\n",
    "plt.title(\"Distribusi Prediksi Rating (Collaborative Filtering)\")\n",
    "plt.xlabel(\"Prediksi Rating\")\n",
    "plt.ylabel(\"Jumlah\")\n",
    "plt.show()"
   ]
  },
  {
   "cell_type": "code",
   "execution_count": 6,
   "id": "f1fa1e69",
   "metadata": {},
   "outputs": [
    {
     "data": {
      "image/png": "[encoded data removed]",
      "text/plain": [
       "<Figure size 640x480 with 1 Axes>"
      ]
     },
     "metadata": {},
     "output_type": "display_data"
    }
   ],
   "source": [
    "top_n = get_top_n(predictions, n=5)\n",
    "\n",
    "user_id = list(top_n.keys())[0]\n",
    "recommended_products = top_n[user_id]\n",
    "\n",
    "# Gabungkan dengan data produk\n",
    "rec_df = pd.DataFrame(recommended_products, columns=['product_id', 'estimated_score'])\n",
    "rec_df = rec_df.merge(products[['product_id', 'product_category_name']], on='product_id', how='left')\n",
    "\n",
    "sns.barplot(x='estimated_score', y='product_category_name', data=rec_df)\n",
    "plt.title(f\"Top Rekomendasi untuk Customer {user_id}\")\n",
    "plt.xlabel(\"Skor Prediksi\")\n",
    "plt.ylabel(\"Kategori Produk\")\n",
    "plt.show()\n"
   ]
  },
  {
   "cell_type": "code",
   "execution_count": 7,
   "id": "eb42da8d",
   "metadata": {},
   "outputs": [
    {
     "name": "stdout",
     "output_type": "stream",
     "text": [
      "Produk 574597aaf385996112490308e37399ce diprediksi rating 4.89\n",
      "Produk b5b5a82ce5f1987b7e670f37629be51b diprediksi rating 4.89\n",
      "Produk ffb97eb64c6fe1baada2410288c04457 diprediksi rating 4.88\n",
      "Produk 17a019676883dce326999c11a46a14f0 diprediksi rating 4.88\n",
      "Produk 3e4176d545618ed02f382a3057de32b4 diprediksi rating 4.87\n"
     ]
    }
   ],
   "source": [
    "# Rekomendasi lebih dari satu\n",
    "\n",
    "from surprise import SVD\n",
    "from surprise import Dataset, Reader\n",
    "from surprise.model_selection import train_test_split\n",
    "\n",
    "# Load & train model\n",
    "reader = Reader(rating_scale=(1, 5))\n",
    "data = Dataset.load_from_df(df[['customer_id', 'product_id', 'review_score']], reader)\n",
    "trainset = data.build_full_trainset()\n",
    "model = SVD()\n",
    "model.fit(trainset)\n",
    "\n",
    "# Cari produk yang belum diberi rating oleh user\n",
    "def get_recommendations(model, trainset, user_id_raw, top_n=5):\n",
    "    user_id_inner = trainset.to_inner_uid(user_id_raw)\n",
    "    items_all = set(trainset.all_items())\n",
    "    items_rated = set([j for (j, _) in trainset.ur[user_id_inner]])\n",
    "    items_unrated = items_all - items_rated\n",
    "\n",
    "    predictions = []\n",
    "    for item_inner in items_unrated:\n",
    "        item_raw = trainset.to_raw_iid(item_inner)\n",
    "        pred = model.predict(user_id_raw, item_raw)\n",
    "        predictions.append((item_raw, pred.est))\n",
    "\n",
    "    predictions.sort(key=lambda x: x[1], reverse=True)\n",
    "    return predictions[:top_n]\n",
    "\n",
    "# Contoh pemakaian\n",
    "user_id = \"06b8999e2fba1a1fbc88172c00ba8bc7\"\n",
    "recommendations = get_recommendations(model, trainset, user_id, top_n=5)\n",
    "for product_id, est_rating in recommendations:\n",
    "    print(f\"Produk {product_id} diprediksi rating {est_rating:.2f}\")\n"
   ]
  },
  {
   "cell_type": "markdown",
   "id": "382b214b",
   "metadata": {},
   "source": [
    "# Modeling"
   ]
  },
  {
   "cell_type": "code",
   "execution_count": 8,
   "id": "95a62b79",
   "metadata": {},
   "outputs": [],
   "source": [
    "import sys\n",
    "import os\n",
    "sys.path.append(os.path.abspath(\"..\"))"
   ]
  },
  {
   "cell_type": "code",
   "execution_count": 12,
   "id": "c9e2efbf",
   "metadata": {},
   "outputs": [
    {
     "name": "stdout",
     "output_type": "stream",
     "text": [
      "Produk 3e4176d545618ed02f382a3057de32b4 diprediksi rating 4.90\n",
      "Produk 73326828aa5efe1ba096223de496f596 diprediksi rating 4.82\n",
      "Produk 1b8ee158f59c098470fad33f39660964 diprediksi rating 4.80\n",
      "Produk a7d756e8f7c4b7e5b679e248a57d91ec diprediksi rating 4.79\n",
      "Produk 36038dae78cc227e4d14b174f0f695d0 diprediksi rating 4.78\n"
     ]
    }
   ],
   "source": [
    "import pickle\n",
    "from src.recommender_cf import CollaborativeFilteringRecommender\n",
    "\n",
    "cf_model = CollaborativeFilteringRecommender(df)\n",
    "with open(\"../dashboard/cf_model.pkl\", \"wb\") as f:\n",
    "    pickle.dump(cf_model, f)\n",
    "\n",
    "user_id = \"06b8999e2fba1a1fbc88172c00ba8bc7\"\n",
    "recommendations = cf_model.get_recommendations(user_id, top_n=5)\n",
    "\n",
    "# Contoh rekomendasi\n",
    "for product_id, est_rating in recommendations:\n",
    "    print(f\"Produk {product_id} diprediksi rating {est_rating:.2f}\")\n"
   ]
  },
  {
   "cell_type": "code",
   "execution_count": 13,
   "id": "a8cc195c",
   "metadata": {},
   "outputs": [
    {
     "name": "stdout",
     "output_type": "stream",
     "text": [
      "<class 'src.recommender_cf.CollaborativeFilteringRecommender'>\n",
      "['__class__', '__delattr__', '__dict__', '__dir__', '__doc__', '__eq__', '__format__', '__ge__', '__getattribute__', '__getstate__', '__gt__', '__hash__', '__init__', '__init_subclass__', '__le__', '__lt__', '__module__', '__ne__', '__new__', '__reduce__', '__reduce_ex__', '__repr__', '__setattr__', '__sizeof__', '__slotnames__', '__str__', '__subclasshook__', '__weakref__', 'data', 'get_recommendations', 'model', 'trainset']\n"
     ]
    }
   ],
   "source": [
    "with open(\"../dashboard/cf_model.pkl\", \"rb\") as f:\n",
    "    model = pickle.load(f)\n",
    "\n",
    "print(type(model))\n",
    "print(dir(model))  # lihat semua method yang tersedia\n"
   ]
  },
  {
   "cell_type": "code",
   "execution_count": null,
   "id": "c47adce7",
   "metadata": {},
   "outputs": [],
   "source": []
  }
 ],
 "metadata": {
  "kernelspec": {
   "display_name": "Python 3",
   "language": "python",
   "name": "python3"
  },
  "language_info": {
   "codemirror_mode": {
    "name": "ipython",
    "version": 3
   },
   "file_extension": ".py",
   "mimetype": "text/x-python",
   "name": "python",
   "nbconvert_exporter": "python",
   "pygments_lexer": "ipython3",
   "version": "3.12.2"
  }
 },
 "nbformat": 4,
 "nbformat_minor": 5
}
